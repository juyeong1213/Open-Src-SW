{
  "nbformat": 4,
  "nbformat_minor": 0,
  "metadata": {
    "colab": {
      "name": "Untitled26.ipynb",
      "provenance": [],
      "authorship_tag": "ABX9TyN2D0bFh3xd3Dvth8I5cs0r",
      "include_colab_link": true
    },
    "kernelspec": {
      "name": "python3",
      "display_name": "Python 3"
    },
    "language_info": {
      "name": "python"
    }
  },
  "cells": [
    {
      "cell_type": "markdown",
      "metadata": {
        "id": "view-in-github",
        "colab_type": "text"
      },
      "source": [
        "<a href=\"https://colab.research.google.com/github/juyeong1213/Open-Src-SW/blob/master/10.ipynb\" target=\"_parent\"><img src=\"https://colab.research.google.com/assets/colab-badge.svg\" alt=\"Open In Colab\"/></a>"
      ]
    },
    {
      "cell_type": "code",
      "execution_count": null,
      "metadata": {
        "colab": {
          "base_uri": "https://localhost:8080/"
        },
        "id": "AUMft8rJZWjs",
        "outputId": "bad2d80d-29f2-478c-8320-c4c869b25733"
      },
      "outputs": [
        {
          "output_type": "stream",
          "name": "stdout",
          "text": [
            "heght=1.000 meters or100 cm\n"
          ]
        }
      ],
      "source": [
        "str = \"{0:s}={1:.3f} meters or{2:d} cm\".format('heght', 1.0, 100)\n",
        "print(str)"
      ]
    },
    {
      "cell_type": "code",
      "source": [
        "\n",
        "x=float(input(\"x=\"))\n",
        "y=3.0*pow(x,2)+5.0*x+3.0\n",
        "print(\"y={0:.2f}\\n\".format(y))\n",
        "\n"
      ],
      "metadata": {
        "colab": {
          "base_uri": "https://localhost:8080/"
        },
        "id": "s5EerdFEcHaf",
        "outputId": "4d120810-a240-4385-89bc-57e68844549a"
      },
      "execution_count": null,
      "outputs": [
        {
          "output_type": "stream",
          "name": "stdout",
          "text": [
            "x=2.1\n",
            "y=26.73\n",
            "\n"
          ]
        }
      ]
    },
    {
      "cell_type": "code",
      "source": [
        "r=float(input(\"r=\"))\n",
        "s=3.14*r*r\n",
        "l=2*3.14*r\n",
        "print(\"반지름 {0:.1f}인 원의 넓이는 {1:.1f}이고 둘레는 {2:.1f}입니다.\".format(r,s,l))\n"
      ],
      "metadata": {
        "colab": {
          "base_uri": "https://localhost:8080/"
        },
        "id": "CiFmLOXOcHdz",
        "outputId": "0749f02a-fe1d-4fb7-84d1-a0da3a24562b"
      },
      "execution_count": null,
      "outputs": [
        {
          "output_type": "stream",
          "name": "stdout",
          "text": [
            "r=1\n",
            "반지름 1.0인 원의 넓이는 3.1이고 둘레는 6.3입니다.\n"
          ]
        }
      ]
    },
    {
      "cell_type": "code",
      "source": [
        "#계산기 \n",
        "n1 = float(input(\"n1 = \"))\n",
        "n2 = float(input(\"n2 = \"))\n",
        "op = input(\"연산\")\n",
        "\n",
        "if(op=='+'):\n",
        "  res=n1+n2\n",
        "  print(res)\n",
        "elif(op=='-'):\n",
        "  res=n1-n2\n",
        "  print(res)\n",
        "elif(op=='*'):\n",
        "  res=n1*n2\n",
        "  print(res)\n",
        "elif(op=='/'):\n",
        "  res=n1/n2\n",
        "  print(res)\n",
        "else:\n",
        "  print(\"Error\")"
      ],
      "metadata": {
        "colab": {
          "base_uri": "https://localhost:8080/"
        },
        "id": "zqFLlniDcHiG",
        "outputId": "0b240778-11fe-45aa-f101-709c4f59274f"
      },
      "execution_count": null,
      "outputs": [
        {
          "output_type": "stream",
          "name": "stdout",
          "text": [
            "n1 = 10\n",
            "n2 = 20\n",
            "연산/\n",
            "0.5\n"
          ]
        }
      ]
    },
    {
      "cell_type": "code",
      "source": [
        "for i in range(10):\n",
        "  print(i)\n",
        "print(\"거꾸로 출력\")\n",
        "for i in range(10,0,-1):\n",
        "  print(i)\n",
        "\n",
        "for ch in \"mystring\":\n",
        "  print(ch)\n",
        "\n",
        "print(\"\\n\")\n",
        "for e in [\"red\",\"green\",\"blue\"]:\n",
        "  print(e)"
      ],
      "metadata": {
        "colab": {
          "base_uri": "https://localhost:8080/"
        },
        "id": "-xKHVlOmcHlu",
        "outputId": "7c809b49-eecd-47ee-d699-49cd84834c28"
      },
      "execution_count": null,
      "outputs": [
        {
          "output_type": "stream",
          "name": "stdout",
          "text": [
            "0\n",
            "1\n",
            "2\n",
            "3\n",
            "4\n",
            "5\n",
            "6\n",
            "7\n",
            "8\n",
            "9\n",
            "거꾸로 출력\n",
            "10\n",
            "9\n",
            "8\n",
            "7\n",
            "6\n",
            "5\n",
            "4\n",
            "3\n",
            "2\n",
            "1\n",
            "m\n",
            "y\n",
            "s\n",
            "t\n",
            "r\n",
            "i\n",
            "n\n",
            "g\n",
            "\n",
            "\n",
            "red\n",
            "green\n",
            "blue\n"
          ]
        }
      ]
    },
    {
      "cell_type": "code",
      "source": [
        "for i in range(2,10):\n",
        "  print(\"{0:d}단\".format(i))\n",
        "  for j in range(1,10):\n",
        "    k=i*j\n",
        "    print(\"{0:d}*{1:d}={2:d}\".format(i,j,k))\n",
        "  print(\"\")"
      ],
      "metadata": {
        "colab": {
          "base_uri": "https://localhost:8080/"
        },
        "id": "m_t7EgmEcHo9",
        "outputId": "44e71457-4e96-4d4c-fd5b-b6d8d4a13d5b"
      },
      "execution_count": null,
      "outputs": [
        {
          "output_type": "stream",
          "name": "stdout",
          "text": [
            "2단\n",
            "2*1=2\n",
            "2*2=4\n",
            "2*3=6\n",
            "2*4=8\n",
            "2*5=10\n",
            "2*6=12\n",
            "2*7=14\n",
            "2*8=16\n",
            "2*9=18\n",
            "\n",
            "3단\n",
            "3*1=3\n",
            "3*2=6\n",
            "3*3=9\n",
            "3*4=12\n",
            "3*5=15\n",
            "3*6=18\n",
            "3*7=21\n",
            "3*8=24\n",
            "3*9=27\n",
            "\n",
            "4단\n",
            "4*1=4\n",
            "4*2=8\n",
            "4*3=12\n",
            "4*4=16\n",
            "4*5=20\n",
            "4*6=24\n",
            "4*7=28\n",
            "4*8=32\n",
            "4*9=36\n",
            "\n",
            "5단\n",
            "5*1=5\n",
            "5*2=10\n",
            "5*3=15\n",
            "5*4=20\n",
            "5*5=25\n",
            "5*6=30\n",
            "5*7=35\n",
            "5*8=40\n",
            "5*9=45\n",
            "\n",
            "6단\n",
            "6*1=6\n",
            "6*2=12\n",
            "6*3=18\n",
            "6*4=24\n",
            "6*5=30\n",
            "6*6=36\n",
            "6*7=42\n",
            "6*8=48\n",
            "6*9=54\n",
            "\n",
            "7단\n",
            "7*1=7\n",
            "7*2=14\n",
            "7*3=21\n",
            "7*4=28\n",
            "7*5=35\n",
            "7*6=42\n",
            "7*7=49\n",
            "7*8=56\n",
            "7*9=63\n",
            "\n",
            "8단\n",
            "8*1=8\n",
            "8*2=16\n",
            "8*3=24\n",
            "8*4=32\n",
            "8*5=40\n",
            "8*6=48\n",
            "8*7=56\n",
            "8*8=64\n",
            "8*9=72\n",
            "\n",
            "9단\n",
            "9*1=9\n",
            "9*2=18\n",
            "9*3=27\n",
            "9*4=36\n",
            "9*5=45\n",
            "9*6=54\n",
            "9*7=63\n",
            "9*8=72\n",
            "9*9=81\n",
            "\n"
          ]
        }
      ]
    },
    {
      "cell_type": "code",
      "source": [
        "v=[[1,2,3],[4,5,6]]\n",
        "for i in v:\n",
        "  print(i)\n",
        "  for j in i:\n",
        "    print(j)"
      ],
      "metadata": {
        "colab": {
          "base_uri": "https://localhost:8080/"
        },
        "id": "hNsXJVNFCbPG",
        "outputId": "436f1827-785c-41a4-f3a8-4eafddf4b552"
      },
      "execution_count": null,
      "outputs": [
        {
          "output_type": "stream",
          "name": "stdout",
          "text": [
            "[1, 2, 3]\n",
            "1\n",
            "2\n",
            "3\n",
            "[4, 5, 6]\n",
            "4\n",
            "5\n",
            "6\n"
          ]
        }
      ]
    },
    {
      "cell_type": "code",
      "source": [
        "v=list(range(10))\n",
        "print(v)\n",
        "for i in v:\n",
        "  print(i)\n",
        "\n",
        "print([i for i in v])\n",
        "\n",
        "v = [[1,2,3],[4,5,6]]\n",
        "for i in v:\n",
        "  for j in i:\n",
        "    print(j)"
      ],
      "metadata": {
        "colab": {
          "base_uri": "https://localhost:8080/"
        },
        "id": "jjXMxBf5Cboc",
        "outputId": "c70f9b27-7584-4309-e0a9-2a26bb399f41"
      },
      "execution_count": null,
      "outputs": [
        {
          "output_type": "stream",
          "name": "stdout",
          "text": [
            "[0, 1, 2, 3, 4, 5, 6, 7, 8, 9]\n",
            "0\n",
            "1\n",
            "2\n",
            "3\n",
            "4\n",
            "5\n",
            "6\n",
            "7\n",
            "8\n",
            "9\n",
            "[0, 1, 2, 3, 4, 5, 6, 7, 8, 9]\n",
            "1\n",
            "2\n",
            "3\n",
            "4\n",
            "5\n",
            "6\n"
          ]
        }
      ]
    },
    {
      "cell_type": "code",
      "source": [
        "for i in range(10):\n",
        "  if 2<i<5:\n",
        "    continue\n",
        "  print(i)\n",
        "\n",
        "for ch in \"this is a string\":\n",
        "   if ch == ' ':\n",
        "     break\n",
        "   print(ch)"
      ],
      "metadata": {
        "colab": {
          "base_uri": "https://localhost:8080/"
        },
        "id": "RNft53i5KYwl",
        "outputId": "d7247d49-6e91-4a68-be8e-6de1ca398b6c"
      },
      "execution_count": null,
      "outputs": [
        {
          "output_type": "stream",
          "name": "stdout",
          "text": [
            "0\n",
            "1\n",
            "2\n",
            "5\n",
            "6\n",
            "7\n",
            "8\n",
            "9\n",
            "t\n",
            "h\n",
            "i\n",
            "s\n"
          ]
        }
      ]
    },
    {
      "cell_type": "code",
      "source": [
        "i=0\n",
        "for ch in \"mystring\":\n",
        "  print(i,ch)\n",
        "  i=i+1\n",
        "print(\"\\n\")\n",
        "for i,ch in enumerate(\"mystring\"):\n",
        "  print(i,ch)"
      ],
      "metadata": {
        "colab": {
          "base_uri": "https://localhost:8080/"
        },
        "id": "tE5hQ3NgKZEl",
        "outputId": "1e130e5b-f759-40db-b4f0-f5aae7e7dc9b"
      },
      "execution_count": null,
      "outputs": [
        {
          "output_type": "stream",
          "name": "stdout",
          "text": [
            "0 m\n",
            "1 y\n",
            "2 s\n",
            "3 t\n",
            "4 r\n",
            "5 i\n",
            "6 n\n",
            "7 g\n",
            "\n",
            "\n",
            "0 m\n",
            "1 y\n",
            "2 s\n",
            "3 t\n",
            "4 r\n",
            "5 i\n",
            "6 n\n",
            "7 g\n"
          ]
        }
      ]
    },
    {
      "cell_type": "code",
      "source": [
        "i=0\n",
        "while 1:\n",
        "  print(i)\n",
        "  i+=1\n",
        "  if i>10:\n",
        "    break"
      ],
      "metadata": {
        "id": "It46hBtjKZ03",
        "colab": {
          "base_uri": "https://localhost:8080/"
        },
        "outputId": "c5cc7c7a-6340-4a15-a842-6ec8fd3f0686"
      },
      "execution_count": null,
      "outputs": [
        {
          "output_type": "stream",
          "name": "stdout",
          "text": [
            "0\n",
            "1\n",
            "2\n",
            "3\n",
            "4\n",
            "5\n",
            "6\n",
            "7\n",
            "8\n",
            "9\n",
            "10\n"
          ]
        }
      ]
    },
    {
      "cell_type": "code",
      "source": [
        "v1=10\n",
        "v2=v1\n",
        "v1=50\n",
        "print(v1,v2)\n",
        "\n",
        "l1=[10]\n",
        "l2=l1\n",
        "l1[0]=50\n",
        "print(l1,l2)\n",
        "\n",
        "l1=[10]\n",
        "l2=l1[:]\n",
        "l1[0]=50\n",
        "print(l1,l2)"
      ],
      "metadata": {
        "id": "bG_-PEtgKagA",
        "colab": {
          "base_uri": "https://localhost:8080/"
        },
        "outputId": "d57ee186-5090-4f1b-d244-f16304568cce"
      },
      "execution_count": null,
      "outputs": [
        {
          "output_type": "stream",
          "name": "stdout",
          "text": [
            "50 10\n",
            "[50] [50]\n",
            "[50] [10]\n"
          ]
        }
      ]
    },
    {
      "cell_type": "code",
      "source": [
        "language=float(input(\"국어= \"))\n",
        "en=float(input(\"영어= \"))\n",
        "math=float(input(\"수학= \"))\n",
        "average=(language+math+en)/3\n",
        "if average>=90:\n",
        "  print(\"평균은 {0:.1f}이며, 등급은 A입니다.\".format(average))\n",
        "  #grade = \"A\"이런 식으로 등급해놓고 마지막에 프린트로 쭉!\n",
        "elif 80<=average<90:\n",
        "  print(\"평균은 {0:.1f}이며, 등급은 B입니다.\".format(average))\n",
        "elif 70<=average<80:\n",
        "  print(\"평균은 {0:.1f}이며, 등급은 C입니다.\".format(average))\n",
        "elif 60<=average<70:\n",
        "  print(\"평균은 {0:.1f}이며, 등급은 D입니다.\".format(average))\n",
        "else:\n",
        "  print(\"평균은 {0:.1f}이며, 등급은 F입니다.\".format(average))\n"
      ],
      "metadata": {
        "id": "AyBGgodKKaob",
        "colab": {
          "base_uri": "https://localhost:8080/"
        },
        "outputId": "8e4ec6f8-3b48-4a6c-fc84-ba7a12359f92"
      },
      "execution_count": null,
      "outputs": [
        {
          "output_type": "stream",
          "name": "stdout",
          "text": [
            "국어= 90\n",
            "영어= 85\n",
            "수학= 72\n",
            "평균은 82.3이며, 등급은 B입니다.\n"
          ]
        }
      ]
    },
    {
      "cell_type": "code",
      "source": [
        "#라인수 입력 받아서 X모양 출력하기"
      ],
      "metadata": {
        "id": "KB87DFSOKa0G"
      },
      "execution_count": null,
      "outputs": []
    },
    {
      "cell_type": "code",
      "source": [
        "l=int(input(\"Lines=\"))\n",
        "for i in range(0,l):\n",
        "  str=\"\"\n",
        "  for j in range(0,l):\n",
        "    if(i==j) or ((l-1)-i==j):\n",
        "      str+=\"1\"\n",
        "    else:\n",
        "      str+=\"0\"\n",
        "  print(str)\n"
      ],
      "metadata": {
        "id": "wljdmxahKbCf",
        "colab": {
          "base_uri": "https://localhost:8080/"
        },
        "outputId": "6fcd6b67-b6de-4651-a145-b87428db3452"
      },
      "execution_count": null,
      "outputs": [
        {
          "output_type": "stream",
          "name": "stdout",
          "text": [
            "Lines=11\n",
            "10000000001\n",
            "01000000010\n",
            "00100000100\n",
            "00010001000\n",
            "00001010000\n",
            "00000100000\n",
            "00001010000\n",
            "00010001000\n",
            "00100000100\n",
            "01000000010\n",
            "10000000001\n"
          ]
        }
      ]
    },
    {
      "cell_type": "code",
      "source": [
        "def sum(a,b):\n",
        "  z=a+b\n",
        "  return z\n",
        "\n",
        "a=sum(10,20)\n",
        "print(a)"
      ],
      "metadata": {
        "id": "b5Gl1fjaKbWv",
        "colab": {
          "base_uri": "https://localhost:8080/"
        },
        "outputId": "0927bd80-7068-43a5-f080-6b47087b68cc"
      },
      "execution_count": null,
      "outputs": [
        {
          "output_type": "stream",
          "name": "stdout",
          "text": [
            "30\n"
          ]
        }
      ]
    },
    {
      "cell_type": "code",
      "source": [
        "def sum(a,b):\n",
        "  z=a+b\n",
        "  return z\n",
        "\n",
        "def list_add1(list):\n",
        "  return sum(list)\n",
        "\n",
        "def list_add2(list):\n",
        "  sum=0\n",
        "  for item in list:\n",
        "    sum+=item\n",
        "  return sum\n",
        "nums=[1,2,3]\n",
        "print(list_add1(nums))\n",
        "print(list_add2(nums))"
      ],
      "metadata": {
        "colab": {
          "base_uri": "https://localhost:8080/",
          "height": 354
        },
        "id": "SQDK1S-6aO94",
        "outputId": "e182fc7f-1d49-48b8-bc6a-d88a195a8d97"
      },
      "execution_count": null,
      "outputs": [
        {
          "output_type": "error",
          "ename": "TypeError",
          "evalue": "ignored",
          "traceback": [
            "\u001b[0;31m---------------------------------------------------------------------------\u001b[0m",
            "\u001b[0;31mTypeError\u001b[0m                                 Traceback (most recent call last)",
            "\u001b[0;32m<ipython-input-62-0cd559031f13>\u001b[0m in \u001b[0;36m<module>\u001b[0;34m()\u001b[0m\n\u001b[1;32m     12\u001b[0m   \u001b[0;32mreturn\u001b[0m \u001b[0msum\u001b[0m\u001b[0;34m\u001b[0m\u001b[0;34m\u001b[0m\u001b[0m\n\u001b[1;32m     13\u001b[0m \u001b[0mnums\u001b[0m\u001b[0;34m=\u001b[0m\u001b[0;34m[\u001b[0m\u001b[0;36m1\u001b[0m\u001b[0;34m,\u001b[0m\u001b[0;36m2\u001b[0m\u001b[0;34m,\u001b[0m\u001b[0;36m3\u001b[0m\u001b[0;34m]\u001b[0m\u001b[0;34m\u001b[0m\u001b[0;34m\u001b[0m\u001b[0m\n\u001b[0;32m---> 14\u001b[0;31m \u001b[0mprint\u001b[0m\u001b[0;34m(\u001b[0m\u001b[0mlist_add1\u001b[0m\u001b[0;34m(\u001b[0m\u001b[0mnums\u001b[0m\u001b[0;34m)\u001b[0m\u001b[0;34m)\u001b[0m\u001b[0;34m\u001b[0m\u001b[0;34m\u001b[0m\u001b[0m\n\u001b[0m\u001b[1;32m     15\u001b[0m \u001b[0mprint\u001b[0m\u001b[0;34m(\u001b[0m\u001b[0mlist_add2\u001b[0m\u001b[0;34m(\u001b[0m\u001b[0mnums\u001b[0m\u001b[0;34m)\u001b[0m\u001b[0;34m)\u001b[0m\u001b[0;34m\u001b[0m\u001b[0;34m\u001b[0m\u001b[0m\n",
            "\u001b[0;32m<ipython-input-62-0cd559031f13>\u001b[0m in \u001b[0;36mlist_add1\u001b[0;34m(list)\u001b[0m\n\u001b[1;32m      4\u001b[0m \u001b[0;34m\u001b[0m\u001b[0m\n\u001b[1;32m      5\u001b[0m \u001b[0;32mdef\u001b[0m \u001b[0mlist_add1\u001b[0m\u001b[0;34m(\u001b[0m\u001b[0mlist\u001b[0m\u001b[0;34m)\u001b[0m\u001b[0;34m:\u001b[0m\u001b[0;34m\u001b[0m\u001b[0;34m\u001b[0m\u001b[0m\n\u001b[0;32m----> 6\u001b[0;31m   \u001b[0;32mreturn\u001b[0m \u001b[0msum\u001b[0m\u001b[0;34m(\u001b[0m\u001b[0mlist\u001b[0m\u001b[0;34m)\u001b[0m\u001b[0;34m\u001b[0m\u001b[0;34m\u001b[0m\u001b[0m\n\u001b[0m\u001b[1;32m      7\u001b[0m \u001b[0;34m\u001b[0m\u001b[0m\n\u001b[1;32m      8\u001b[0m \u001b[0;32mdef\u001b[0m \u001b[0mlist_add2\u001b[0m\u001b[0;34m(\u001b[0m\u001b[0mlist\u001b[0m\u001b[0;34m)\u001b[0m\u001b[0;34m:\u001b[0m\u001b[0;34m\u001b[0m\u001b[0;34m\u001b[0m\u001b[0m\n",
            "\u001b[0;31mTypeError\u001b[0m: sum() missing 1 required positional argument: 'b'"
          ]
        }
      ]
    },
    {
      "cell_type": "code",
      "source": [
        "#입력된 정수들 중에 가장 큰 값ㅇ르 출력하는 프로그램\n",
        "\n",
        "str=input(\"Num?\")\n",
        "strlist=str.split()\n",
        "max=int(strlist[0])\n",
        "for str in strlist[1:]:\n",
        "  num=int(str)\n",
        "  if(num>max):\n",
        "    max=num\n",
        "print(max)\n",
        "\n"
      ],
      "metadata": {
        "colab": {
          "base_uri": "https://localhost:8080/"
        },
        "id": "JRoCOs9yaPK5",
        "outputId": "8261a484-01ae-4e15-82d8-0501bf8cd823"
      },
      "execution_count": null,
      "outputs": [
        {
          "output_type": "stream",
          "name": "stdout",
          "text": [
            "Num?1 5 3 9 7\n",
            "9\n"
          ]
        }
      ]
    },
    {
      "cell_type": "code",
      "source": [
        "class Point:\n",
        "  def __init__(self,x,y):\n",
        "    self.x=x\n",
        "    self.y=y\n",
        "  def __add__(self,other):\n",
        "    self.x+=other.x\n",
        "    self.y+=other.y\n",
        "    return self\n",
        "  def show(self):\n",
        "    print(\"({0:d}, {1:d})\".format(self.x,self.y))\n",
        "\n",
        "  a= Point(1,2)\n",
        "  a.show()\n"
      ],
      "metadata": {
        "id": "wWaYFkA5aPSj",
        "colab": {
          "base_uri": "https://localhost:8080/",
          "height": 354
        },
        "outputId": "e3ad5bcc-0a3b-4d18-9679-c52293672050"
      },
      "execution_count": 3,
      "outputs": [
        {
          "output_type": "error",
          "ename": "NameError",
          "evalue": "ignored",
          "traceback": [
            "\u001b[0;31m---------------------------------------------------------------------------\u001b[0m",
            "\u001b[0;31mNameError\u001b[0m                                 Traceback (most recent call last)",
            "\u001b[0;32m<ipython-input-3-b828022bbd1b>\u001b[0m in \u001b[0;36m<module>\u001b[0;34m()\u001b[0m\n\u001b[0;32m----> 1\u001b[0;31m \u001b[0;32mclass\u001b[0m \u001b[0mPoint\u001b[0m\u001b[0;34m:\u001b[0m\u001b[0;34m\u001b[0m\u001b[0;34m\u001b[0m\u001b[0m\n\u001b[0m\u001b[1;32m      2\u001b[0m   \u001b[0;32mdef\u001b[0m \u001b[0m__init__\u001b[0m\u001b[0;34m(\u001b[0m\u001b[0mself\u001b[0m\u001b[0;34m,\u001b[0m\u001b[0mx\u001b[0m\u001b[0;34m,\u001b[0m\u001b[0my\u001b[0m\u001b[0;34m)\u001b[0m\u001b[0;34m:\u001b[0m\u001b[0;34m\u001b[0m\u001b[0;34m\u001b[0m\u001b[0m\n\u001b[1;32m      3\u001b[0m     \u001b[0mself\u001b[0m\u001b[0;34m.\u001b[0m\u001b[0mx\u001b[0m\u001b[0;34m=\u001b[0m\u001b[0mx\u001b[0m\u001b[0;34m\u001b[0m\u001b[0;34m\u001b[0m\u001b[0m\n\u001b[1;32m      4\u001b[0m     \u001b[0mself\u001b[0m\u001b[0;34m.\u001b[0m\u001b[0my\u001b[0m\u001b[0;34m=\u001b[0m\u001b[0my\u001b[0m\u001b[0;34m\u001b[0m\u001b[0;34m\u001b[0m\u001b[0m\n\u001b[1;32m      5\u001b[0m   \u001b[0;32mdef\u001b[0m \u001b[0m__add__\u001b[0m\u001b[0;34m(\u001b[0m\u001b[0mself\u001b[0m\u001b[0;34m,\u001b[0m\u001b[0mother\u001b[0m\u001b[0;34m)\u001b[0m\u001b[0;34m:\u001b[0m\u001b[0;34m\u001b[0m\u001b[0;34m\u001b[0m\u001b[0m\n",
            "\u001b[0;32m<ipython-input-3-b828022bbd1b>\u001b[0m in \u001b[0;36mPoint\u001b[0;34m()\u001b[0m\n\u001b[1;32m     10\u001b[0m     \u001b[0mprint\u001b[0m\u001b[0;34m(\u001b[0m\u001b[0;34m\"({0:d}, {1:d})\"\u001b[0m\u001b[0;34m.\u001b[0m\u001b[0mformat\u001b[0m\u001b[0;34m(\u001b[0m\u001b[0mself\u001b[0m\u001b[0;34m.\u001b[0m\u001b[0mx\u001b[0m\u001b[0;34m,\u001b[0m\u001b[0mself\u001b[0m\u001b[0;34m.\u001b[0m\u001b[0my\u001b[0m\u001b[0;34m)\u001b[0m\u001b[0;34m)\u001b[0m\u001b[0;34m\u001b[0m\u001b[0;34m\u001b[0m\u001b[0m\n\u001b[1;32m     11\u001b[0m \u001b[0;34m\u001b[0m\u001b[0m\n\u001b[0;32m---> 12\u001b[0;31m   \u001b[0ma\u001b[0m\u001b[0;34m=\u001b[0m \u001b[0mPoint\u001b[0m\u001b[0;34m(\u001b[0m\u001b[0;36m1\u001b[0m\u001b[0;34m,\u001b[0m\u001b[0;36m2\u001b[0m\u001b[0;34m)\u001b[0m\u001b[0;34m\u001b[0m\u001b[0;34m\u001b[0m\u001b[0m\n\u001b[0m\u001b[1;32m     13\u001b[0m   \u001b[0ma\u001b[0m\u001b[0;34m.\u001b[0m\u001b[0mshow\u001b[0m\u001b[0;34m(\u001b[0m\u001b[0;34m)\u001b[0m\u001b[0;34m\u001b[0m\u001b[0;34m\u001b[0m\u001b[0m\n",
            "\u001b[0;31mNameError\u001b[0m: name 'Point' is not defined"
          ]
        }
      ]
    },
    {
      "cell_type": "code",
      "source": [
        ""
      ],
      "metadata": {
        "id": "PcqXxCsKaPYG"
      },
      "execution_count": null,
      "outputs": []
    },
    {
      "cell_type": "code",
      "source": [
        ""
      ],
      "metadata": {
        "id": "mDOy-44ZaPen"
      },
      "execution_count": null,
      "outputs": []
    },
    {
      "cell_type": "code",
      "source": [
        ""
      ],
      "metadata": {
        "id": "pEliyQozaPkO"
      },
      "execution_count": null,
      "outputs": []
    },
    {
      "cell_type": "code",
      "source": [
        ""
      ],
      "metadata": {
        "id": "rg6eeB2TaPpU"
      },
      "execution_count": null,
      "outputs": []
    },
    {
      "cell_type": "code",
      "source": [
        ""
      ],
      "metadata": {
        "id": "jL7hPZYfaPt2"
      },
      "execution_count": null,
      "outputs": []
    },
    {
      "cell_type": "code",
      "source": [
        ""
      ],
      "metadata": {
        "id": "fXQxjEapaPy-"
      },
      "execution_count": null,
      "outputs": []
    }
  ]
}