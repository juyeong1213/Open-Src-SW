{
  "cells": [
    {
      "cell_type": "markdown",
      "metadata": {
        "id": "view-in-github",
        "colab_type": "text"
      },
      "source": [
        "<a href=\"https://colab.research.google.com/github/juyeong1213/Open-Src-SW/blob/master/week12.ipynb\" target=\"_parent\"><img src=\"https://colab.research.google.com/assets/colab-badge.svg\" alt=\"Open In Colab\"/></a>"
      ]
    },
    {
      "cell_type": "code",
      "execution_count": null,
      "metadata": {
        "id": "FoxhSQ7SpW3L",
        "outputId": "39ad792f-e027-44b2-ca6c-161ccf6dcfb8"
      },
      "outputs": [
        {
          "name": "stdout",
          "output_type": "stream",
          "text": [
            "일교차가 가장 큰 날\n",
            "2020-05-06\n",
            "최저기온이 가장 낮은 날\n",
            "2020-12-30\n",
            "최고기온이 가장 높은 날\n",
            "2020-06-22\n"
          ]
        }
      ],
      "source": [
        "#실습 #1 : 서울의 일교차\n",
        "import csv\n",
        "f = open('seoul.csv','r',encoding='cp949')\n",
        "data = csv.reader(f, delimiter=',')\n",
        "header = next(data)\n",
        "\n",
        "day = []\n",
        "min_temp = []\n",
        "max_temp = []\n",
        "dt = []\n",
        "for row in data:\n",
        "    day.append(row[0])\n",
        "    min_temp.append(float(row[3]))\n",
        "    max_temp.append(float(row[4]))\n",
        "    dt.append(float(row[4])-float(row[3]))\n",
        "    #row[0] : 날짜, row[3,4] : 최저기온, 최고기온\n",
        "\n",
        "i = dt.index(max(dt))\n",
        "i1 = min_temp.index(min(min_temp))\n",
        "i2 = max_temp.index(max(max_temp))\n",
        "print(\"일교차가 가장 큰 날\\n{0:s}\\n최저기온이 가장 낮은 날\\n{1:s}\\n최고기온이 가장 높은 날\\n{2:s}\"\n",
        "      .format(day[i],day[i1],day[i2]))\n",
        "\n",
        "f.close()"
      ]
    },
    {
      "cell_type": "code",
      "execution_count": null,
      "metadata": {
        "id": "84khTEMDpW3R",
        "outputId": "df9ac90d-8650-4593-ec78-26ee7cfb65fe"
      },
      "outputs": [
        {
          "name": "stdout",
          "output_type": "stream",
          "text": [
            "이용객이 가장 많은 역 순위\n",
            "1.강남(3167883)\n",
            "2.잠실(송파구청)(2669433)\n",
            "3.서울역(1639892)\n",
            "\n",
            "이용객이 가장 적은 역 순위\n",
            "1.계양(2)\n",
            "2.지축(4)\n",
            "3.창동(6)\n"
          ]
        }
      ],
      "source": [
        "#실습 #2 : 지하철 이용객\n",
        "import csv\n",
        "f = open('subwayfee.csv',encoding='UTF8')\n",
        "data = csv.reader(f)\n",
        "next(data)\n",
        "\n",
        "mx = []\n",
        "mx.append(0)\n",
        "mx_station = []\n",
        "mx_station.append('')\n",
        "\n",
        "mi = []\n",
        "mi.append(10000000)\n",
        "mi_station = []\n",
        "mi_station.append('')\n",
        "\n",
        "for row in data:\n",
        "    plus = 0\n",
        "    for i in range(4,8):\n",
        "        row[i] = int(row[i].replace(',',''))\n",
        "        plus += row[i]\n",
        "    if plus>mx[-1]:\n",
        "        mx.append(plus)\n",
        "        mx_station.append(row[3])\n",
        "    if plus<mi[-1]:\n",
        "        mi.append(plus)\n",
        "        mi_station.append(row[3])\n",
        "        \n",
        "print(\"이용객이 가장 많은 역 순위\\n1.{0:s}({1:d})\\n2.{2:s}({3:d})\\n3.{4:s}({5:d})\\n\"\n",
        "      .format(mx_station[-1],mx[-1],mx_station[-2],mx[-2],mx_station[-3],mx[-3]))\n",
        "print(\"이용객이 가장 적은 역 순위\\n1.{0:s}({1:d})\\n2.{2:s}({3:d})\\n3.{4:s}({5:d})\"\n",
        "      .format(mi_station[-1],mi[-1],mi_station[-2],mi[-2],mi_station[-3],mi[-3]))"
      ]
    }
  ],
  "metadata": {
    "kernelspec": {
      "display_name": "Python 3",
      "language": "python",
      "name": "python3"
    },
    "language_info": {
      "codemirror_mode": {
        "name": "ipython",
        "version": 3
      },
      "file_extension": ".py",
      "mimetype": "text/x-python",
      "name": "python",
      "nbconvert_exporter": "python",
      "pygments_lexer": "ipython3",
      "version": "3.8.3"
    },
    "colab": {
      "name": "week12.ipynb",
      "provenance": [],
      "include_colab_link": true
    }
  },
  "nbformat": 4,
  "nbformat_minor": 0
}