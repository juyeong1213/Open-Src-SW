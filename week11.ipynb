{
  "nbformat": 4,
  "nbformat_minor": 0,
  "metadata": {
    "colab": {
      "name": "Untitled6.ipynb",
      "provenance": [],
      "authorship_tag": "ABX9TyNmJKS8HVHNJ5MsUMwt8aIq",
      "include_colab_link": true
    },
    "kernelspec": {
      "name": "python3",
      "display_name": "Python 3"
    },
    "language_info": {
      "name": "python"
    }
  },
  "cells": [
    {
      "cell_type": "markdown",
      "metadata": {
        "id": "view-in-github",
        "colab_type": "text"
      },
      "source": [
        "<a href=\"https://colab.research.google.com/github/juyeong1213/Open-Src-SW/blob/master/week11.ipynb\" target=\"_parent\"><img src=\"https://colab.research.google.com/assets/colab-badge.svg\" alt=\"Open In Colab\"/></a>"
      ]
    },
    {
      "cell_type": "code",
      "source": [
        "f=('README.txt', 'r')\n",
        "dic={}\n",
        "for line in f:\n",
        "  line=line.strip()\n",
        "  words=line.split()\n",
        "\n",
        "  for w in words:\n",
        "    if w in dic:\n",
        "      dic[w]+=1\n",
        "    else:\n",
        "      dic[w]=1\n",
        "\n",
        "  for w in dic:\n",
        "    print(w,dic[w])"
      ],
      "metadata": {
        "colab": {
          "base_uri": "https://localhost:8080/"
        },
        "id": "7kEGvY2Nnxmy",
        "outputId": "6ca68e68-894c-4b4b-a479-bcf12ad0dc0d"
      },
      "execution_count": 3,
      "outputs": [
        {
          "output_type": "stream",
          "name": "stdout",
          "text": [
            "README.txt 1\n",
            "README.txt 1\n",
            "r 1\n"
          ]
        }
      ]
    },
    {
      "cell_type": "code",
      "source": [
        ""
      ],
      "metadata": {
        "id": "Gk5iT6HvvzRr"
      },
      "execution_count": null,
      "outputs": []
    },
    {
      "cell_type": "code",
      "source": [
        "class Point:\n",
        "  def __init__(self, x, y):\n",
        "    self.x = x\n",
        "    self.y = y\n",
        "  def move(self, dx, dy):\n",
        "    self.x += dx\n",
        "    self.y += dy\n",
        "  def show(self):\n",
        "    print(\"({0:d}, (1:d})\".format(self.x.self.y))\n",
        "\n",
        "class Box(Point):\n",
        "  def __init__(self, p1, p2):\n",
        "    self.p1 = p1\n",
        "    self.p2 = p2\n",
        "  def move(self, dx, dy):\n",
        "    self.p1.move(dx, dy)\n",
        "    self.p2.move(dx, dy)\n",
        "  def show(self):\n",
        "    self.p1.show()\n",
        "    self.p2.show()"
      ],
      "metadata": {
        "id": "Ph4UIYllrNg3"
      },
      "execution_count": 1,
      "outputs": []
    }
  ]
}