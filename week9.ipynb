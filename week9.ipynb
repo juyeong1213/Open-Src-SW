{
  "nbformat": 4,
  "nbformat_minor": 0,
  "metadata": {
    "colab": {
      "name": "Untitled4.ipynb",
      "provenance": [],
      "collapsed_sections": [],
      "authorship_tag": "ABX9TyM+4KLLgm/SdalVaK1FvXaW",
      "include_colab_link": true
    },
    "kernelspec": {
      "name": "python3",
      "display_name": "Python 3"
    },
    "language_info": {
      "name": "python"
    }
  },
  "cells": [
    {
      "cell_type": "markdown",
      "metadata": {
        "id": "view-in-github",
        "colab_type": "text"
      },
      "source": [
        "<a href=\"https://colab.research.google.com/github/juyeong1213/Open-Src-SW/blob/master/week9.ipynb\" target=\"_parent\"><img src=\"https://colab.research.google.com/assets/colab-badge.svg\" alt=\"Open In Colab\"/></a>"
      ]
    },
    {
      "cell_type": "code",
      "execution_count": 1,
      "metadata": {
        "colab": {
          "base_uri": "https://localhost:8080/"
        },
        "id": "o4CpICdvVagT",
        "outputId": "83c1f67f-a330-4694-e02a-661547426843"
      },
      "outputs": [
        {
          "output_type": "execute_result",
          "data": {
            "text/plain": [
              "(7, 36)"
            ]
          },
          "metadata": {},
          "execution_count": 1
        }
      ],
      "source": [
        "a=456\n",
        "h=456/60\n",
        "m=456%60\n",
        "int(h), m"
      ]
    },
    {
      "cell_type": "code",
      "source": [
        "scores={\"홍길동\":3.4, \"임꺽정\":4.0, \"김철수\":2.8, \"이영희\":3.9}\n",
        "\n",
        "data=scores.keys()\n",
        "data_list=list(data)\n",
        "data_list.sort()\n",
        "print(data_list)\n",
        "\n",
        "key=data_list[0]\n",
        "value=scores[key]\n",
        "print(key,value)"
      ],
      "metadata": {
        "colab": {
          "base_uri": "https://localhost:8080/"
        },
        "id": "0JiHO_Z3Ve78",
        "outputId": "7b4aaefd-e2c3-42be-f801-65b714358bed"
      },
      "execution_count": 2,
      "outputs": [
        {
          "output_type": "stream",
          "name": "stdout",
          "text": [
            "['김철수', '이영희', '임꺽정', '홍길동']\n",
            "김철수 2.8\n"
          ]
        }
      ]
    }
  ]
}